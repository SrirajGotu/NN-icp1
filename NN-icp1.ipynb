{
  "nbformat": 4,
  "nbformat_minor": 0,
  "metadata": {
    "colab": {
      "provenance": []
    },
    "kernelspec": {
      "name": "python3",
      "display_name": "Python 3"
    },
    "language_info": {
      "name": "python"
    }
  },
  "cells": [
    {
      "cell_type": "code",
      "execution_count": 1,
      "metadata": {
        "colab": {
          "base_uri": "https://localhost:8080/"
        },
        "id": "hRW2cqOHEvJN",
        "outputId": "ccbad34a-880f-420b-ea0b-33e593e60500"
      },
      "outputs": [
        {
          "output_type": "stream",
          "name": "stdout",
          "text": [
            "Enter your first name Sriraj\n",
            "Enter your last name Gotu\n",
            "Your fullname is Sriraj Gotu\n",
            "The alternate string is:  Sia ou\n"
          ]
        }
      ],
      "source": [
        "your_firstname=input(\"Enter your first name \")\n",
        "your_lastname=input(\"Enter your last name \")\n",
        "\n",
        "def fullname(your_firstname,your_lastname):\n",
        "    global your_fullname\n",
        "    your_fullname=your_firstname+\" \"+your_lastname\n",
        "    print(\"Your fullname is \" + your_fullname)\n",
        "fullname(your_firstname,your_lastname)\n",
        "\n",
        "#For displaying the alternate string\n",
        "def alternate_string(your_fullname):\n",
        "    fullname=your_fullname[::2] # for showing the alternate letters\n",
        "    print(\"The alternate string is: \" ,fullname) #printing the alternate string of fullname\n",
        "alternate_string(your_fullname)"
      ]
    },
    {
      "cell_type": "code",
      "source": [
        "def convertinginchestocm():\n",
        "    list=[110,115, 135, 146]#Declaring the list\n",
        "    e=[]#empty list\n",
        "    for items in list: #for loop\n",
        "        e.append(items*2.54) # appending\n",
        "    print(\"output for loop\",e)\n",
        "    #For list comprehension\n",
        "    print(\"output for List Comprehension\",[items*2.54 for items in list])\n",
        "\n",
        "convertinginchestocm()"
      ],
      "metadata": {
        "colab": {
          "base_uri": "https://localhost:8080/"
        },
        "id": "YR1OTDikII5i",
        "outputId": "2f0767c2-7baa-4ce2-fafa-c04c5d443ec4"
      },
      "execution_count": 2,
      "outputs": [
        {
          "output_type": "stream",
          "name": "stdout",
          "text": [
            "output for loop [279.4, 292.1, 342.9, 370.84000000000003]\n",
            "output for List Comprehension [279.4, 292.1, 342.9, 370.84000000000003]\n"
          ]
        }
      ]
    },
    {
      "cell_type": "code",
      "source": [
        "def count_word_occurrences(line, word_count):\n",
        "    words = line.split()\n",
        "    for word in words:\n",
        "        word_count[word] = word_count.get(word, 0) + 1\n",
        "\n",
        "def main():\n",
        "    input_file_name = \"input.txt\"\n",
        "    output_file_name = \"output.txt\"\n",
        "\n",
        "    try:\n",
        "        # Read input file\n",
        "        with open(input_file_name, 'r') as file:\n",
        "            lines = file.readlines()\n",
        "\n",
        "        # Count word occurrences\n",
        "        word_count = {}\n",
        "        for line in lines:\n",
        "            count_word_occurrences(line, word_count)\n",
        "\n",
        "        # Prepare summarized output\n",
        "        output_lines = []\n",
        "        for word, count in word_count.items():\n",
        "            output_lines.append(f\"{word}: {count}\")\n",
        "\n",
        "        # Print the output\n",
        "        for output_line in output_lines:\n",
        "            print(output_line)\n",
        "\n",
        "        # Write output to file\n",
        "        with open(output_file_name, 'w') as output_file:\n",
        "            output_file.write('\\n'.join(output_lines))\n",
        "\n",
        "        print(f\"\\nWord count results saved in {output_file_name}\")\n",
        "\n",
        "    except FileNotFoundError:\n",
        "        print(f\"Error: File '{input_file_name}' not found.\")\n",
        "\n",
        "if __name__ == \"__main__\":\n",
        "    main()"
      ],
      "metadata": {
        "colab": {
          "base_uri": "https://localhost:8080/"
        },
        "id": "Gc1DLuClNMhF",
        "outputId": "eef0c473-c858-4353-e629-4505cedd2f7c"
      },
      "execution_count": 5,
      "outputs": [
        {
          "output_type": "stream",
          "name": "stdout",
          "text": [
            "Python: 1\n",
            "Course: 2\n",
            "Deep: 1\n",
            "Learning: 1\n",
            "\n",
            "Word count results saved in output.txt\n"
          ]
        }
      ]
    }
  ]
}